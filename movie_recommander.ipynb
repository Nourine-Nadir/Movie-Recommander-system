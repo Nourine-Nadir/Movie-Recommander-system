{
 "cells": [
  {
   "cell_type": "code",
   "execution_count": 112,
   "metadata": {},
   "outputs": [],
   "source": [
    "import numpy as np\n",
    "import pandas as pd\n",
    "import matplotlib.pyplot as plt\n",
    "from sklearn.metrics.pairwise import cosine_similarity\n",
    "from sklearn.feature_extraction.text import TfidfVectorizer\n",
    "\n",
    "import warnings\n",
    "warnings.filterwarnings('ignore')\n"
   ]
  },
  {
   "cell_type": "code",
   "execution_count": 113,
   "metadata": {},
   "outputs": [
    {
     "data": {
      "text/html": [
       "<div>\n",
       "<style scoped>\n",
       "    .dataframe tbody tr th:only-of-type {\n",
       "        vertical-align: middle;\n",
       "    }\n",
       "\n",
       "    .dataframe tbody tr th {\n",
       "        vertical-align: top;\n",
       "    }\n",
       "\n",
       "    .dataframe thead th {\n",
       "        text-align: right;\n",
       "    }\n",
       "</style>\n",
       "<table border=\"1\" class=\"dataframe\">\n",
       "  <thead>\n",
       "    <tr style=\"text-align: right;\">\n",
       "      <th></th>\n",
       "      <th>Unnamed: 0</th>\n",
       "      <th>Movie_id</th>\n",
       "      <th>title</th>\n",
       "      <th>Genres</th>\n",
       "      <th>release_date</th>\n",
       "      <th>Keywords</th>\n",
       "      <th>overview</th>\n",
       "      <th>poster_path</th>\n",
       "      <th>Budget</th>\n",
       "      <th>Revenue</th>\n",
       "      <th>popularity</th>\n",
       "      <th>vote_average</th>\n",
       "      <th>vote_count</th>\n",
       "    </tr>\n",
       "  </thead>\n",
       "  <tbody>\n",
       "    <tr>\n",
       "      <th>0</th>\n",
       "      <td>0</td>\n",
       "      <td>238</td>\n",
       "      <td>The Godfather</td>\n",
       "      <td>[{'id': 18, 'name': 'Drama'}, {'id': 80, 'name...</td>\n",
       "      <td>1972-03-14</td>\n",
       "      <td>[{'id': 131, 'name': 'italy'}, {'id': 697, 'na...</td>\n",
       "      <td>Spanning the years 1945 to 1955, a chronicle o...</td>\n",
       "      <td>/3bhkrj58Vtu7enYsRolD1fZdja1.jpg</td>\n",
       "      <td>245066411</td>\n",
       "      <td>245066411</td>\n",
       "      <td>93.552</td>\n",
       "      <td>8.7</td>\n",
       "      <td>16814</td>\n",
       "    </tr>\n",
       "    <tr>\n",
       "      <th>1</th>\n",
       "      <td>1</td>\n",
       "      <td>278</td>\n",
       "      <td>The Shawshank Redemption</td>\n",
       "      <td>[{'id': 18, 'name': 'Drama'}, {'id': 80, 'name...</td>\n",
       "      <td>1994-09-23</td>\n",
       "      <td>[{'id': 378, 'name': 'prison'}, {'id': 417, 'n...</td>\n",
       "      <td>Framed in the 1940s for the double murder of h...</td>\n",
       "      <td>/q6y0Go1tsGEsmtFryDOJo3dEmqu.jpg</td>\n",
       "      <td>28341469</td>\n",
       "      <td>28341469</td>\n",
       "      <td>78.664</td>\n",
       "      <td>8.7</td>\n",
       "      <td>22542</td>\n",
       "    </tr>\n",
       "  </tbody>\n",
       "</table>\n",
       "</div>"
      ],
      "text/plain": [
       "   Unnamed: 0  Movie_id                     title  \\\n",
       "0           0       238             The Godfather   \n",
       "1           1       278  The Shawshank Redemption   \n",
       "\n",
       "                                              Genres release_date  \\\n",
       "0  [{'id': 18, 'name': 'Drama'}, {'id': 80, 'name...   1972-03-14   \n",
       "1  [{'id': 18, 'name': 'Drama'}, {'id': 80, 'name...   1994-09-23   \n",
       "\n",
       "                                            Keywords  \\\n",
       "0  [{'id': 131, 'name': 'italy'}, {'id': 697, 'na...   \n",
       "1  [{'id': 378, 'name': 'prison'}, {'id': 417, 'n...   \n",
       "\n",
       "                                            overview  \\\n",
       "0  Spanning the years 1945 to 1955, a chronicle o...   \n",
       "1  Framed in the 1940s for the double murder of h...   \n",
       "\n",
       "                        poster_path     Budget    Revenue  popularity  \\\n",
       "0  /3bhkrj58Vtu7enYsRolD1fZdja1.jpg  245066411  245066411      93.552   \n",
       "1  /q6y0Go1tsGEsmtFryDOJo3dEmqu.jpg   28341469   28341469      78.664   \n",
       "\n",
       "   vote_average  vote_count  \n",
       "0           8.7       16814  \n",
       "1           8.7       22542  "
      ]
     },
     "execution_count": 113,
     "metadata": {},
     "output_type": "execute_result"
    }
   ],
   "source": [
    "movies=pd.read_csv(\"D:\\\\Artificial intelligence\\\\IA 2023 -\\\\Machine Learning\\\\Sklearn\\\\Recommander System\\\\10000 Movies Data\\\\10000 Movies Data\")\n",
    "credits=pd.read_csv('D:\\\\Artificial intelligence\\\\IA 2023 -\\\\Machine Learning\\\\Sklearn\\\\Recommander System\\\\10000 Credits Data\\\\10000 Credits Data')\n",
    "\n",
    "\n",
    "movies.head(2)"
   ]
  },
  {
   "cell_type": "code",
   "execution_count": 114,
   "metadata": {},
   "outputs": [],
   "source": [
    "credits=credits.drop(\"title\",axis=1)"
   ]
  },
  {
   "cell_type": "code",
   "execution_count": 115,
   "metadata": {},
   "outputs": [],
   "source": [
    "\n",
    "movies=movies.merge(credits,on='Movie_id')\n"
   ]
  },
  {
   "cell_type": "code",
   "execution_count": 116,
   "metadata": {},
   "outputs": [
    {
     "data": {
      "text/plain": [
       "(9980, 16)"
      ]
     },
     "execution_count": 116,
     "metadata": {},
     "output_type": "execute_result"
    }
   ],
   "source": [
    "#Final dataset shape :\n",
    "movies.shape"
   ]
  },
  {
   "cell_type": "code",
   "execution_count": 117,
   "metadata": {},
   "outputs": [
    {
     "data": {
      "text/html": [
       "<div>\n",
       "<style scoped>\n",
       "    .dataframe tbody tr th:only-of-type {\n",
       "        vertical-align: middle;\n",
       "    }\n",
       "\n",
       "    .dataframe tbody tr th {\n",
       "        vertical-align: top;\n",
       "    }\n",
       "\n",
       "    .dataframe thead th {\n",
       "        text-align: right;\n",
       "    }\n",
       "</style>\n",
       "<table border=\"1\" class=\"dataframe\">\n",
       "  <thead>\n",
       "    <tr style=\"text-align: right;\">\n",
       "      <th></th>\n",
       "      <th>Unnamed: 0_x</th>\n",
       "      <th>Movie_id</th>\n",
       "      <th>title</th>\n",
       "      <th>Genres</th>\n",
       "      <th>release_date</th>\n",
       "      <th>Keywords</th>\n",
       "      <th>overview</th>\n",
       "      <th>poster_path</th>\n",
       "      <th>Budget</th>\n",
       "      <th>Revenue</th>\n",
       "      <th>popularity</th>\n",
       "      <th>vote_average</th>\n",
       "      <th>vote_count</th>\n",
       "      <th>Unnamed: 0_y</th>\n",
       "      <th>Cast</th>\n",
       "      <th>Crew</th>\n",
       "    </tr>\n",
       "  </thead>\n",
       "  <tbody>\n",
       "    <tr>\n",
       "      <th>0</th>\n",
       "      <td>0</td>\n",
       "      <td>238</td>\n",
       "      <td>The Godfather</td>\n",
       "      <td>[{'id': 18, 'name': 'Drama'}, {'id': 80, 'name...</td>\n",
       "      <td>1972-03-14</td>\n",
       "      <td>[{'id': 131, 'name': 'italy'}, {'id': 697, 'na...</td>\n",
       "      <td>Spanning the years 1945 to 1955, a chronicle o...</td>\n",
       "      <td>/3bhkrj58Vtu7enYsRolD1fZdja1.jpg</td>\n",
       "      <td>245066411</td>\n",
       "      <td>245066411</td>\n",
       "      <td>93.552</td>\n",
       "      <td>8.7</td>\n",
       "      <td>16814</td>\n",
       "      <td>0</td>\n",
       "      <td>[{'adult': False, 'gender': 2, 'id': 3084, 'kn...</td>\n",
       "      <td>[{'adult': False, 'gender': 2, 'id': 154, 'kno...</td>\n",
       "    </tr>\n",
       "    <tr>\n",
       "      <th>1</th>\n",
       "      <td>1</td>\n",
       "      <td>278</td>\n",
       "      <td>The Shawshank Redemption</td>\n",
       "      <td>[{'id': 18, 'name': 'Drama'}, {'id': 80, 'name...</td>\n",
       "      <td>1994-09-23</td>\n",
       "      <td>[{'id': 378, 'name': 'prison'}, {'id': 417, 'n...</td>\n",
       "      <td>Framed in the 1940s for the double murder of h...</td>\n",
       "      <td>/q6y0Go1tsGEsmtFryDOJo3dEmqu.jpg</td>\n",
       "      <td>28341469</td>\n",
       "      <td>28341469</td>\n",
       "      <td>78.664</td>\n",
       "      <td>8.7</td>\n",
       "      <td>22542</td>\n",
       "      <td>1</td>\n",
       "      <td>[{'adult': False, 'gender': 2, 'id': 504, 'kno...</td>\n",
       "      <td>[{'adult': False, 'gender': 2, 'id': 153, 'kno...</td>\n",
       "    </tr>\n",
       "  </tbody>\n",
       "</table>\n",
       "</div>"
      ],
      "text/plain": [
       "   Unnamed: 0_x  Movie_id                     title  \\\n",
       "0             0       238             The Godfather   \n",
       "1             1       278  The Shawshank Redemption   \n",
       "\n",
       "                                              Genres release_date  \\\n",
       "0  [{'id': 18, 'name': 'Drama'}, {'id': 80, 'name...   1972-03-14   \n",
       "1  [{'id': 18, 'name': 'Drama'}, {'id': 80, 'name...   1994-09-23   \n",
       "\n",
       "                                            Keywords  \\\n",
       "0  [{'id': 131, 'name': 'italy'}, {'id': 697, 'na...   \n",
       "1  [{'id': 378, 'name': 'prison'}, {'id': 417, 'n...   \n",
       "\n",
       "                                            overview  \\\n",
       "0  Spanning the years 1945 to 1955, a chronicle o...   \n",
       "1  Framed in the 1940s for the double murder of h...   \n",
       "\n",
       "                        poster_path     Budget    Revenue  popularity  \\\n",
       "0  /3bhkrj58Vtu7enYsRolD1fZdja1.jpg  245066411  245066411      93.552   \n",
       "1  /q6y0Go1tsGEsmtFryDOJo3dEmqu.jpg   28341469   28341469      78.664   \n",
       "\n",
       "   vote_average  vote_count  Unnamed: 0_y  \\\n",
       "0           8.7       16814             0   \n",
       "1           8.7       22542             1   \n",
       "\n",
       "                                                Cast  \\\n",
       "0  [{'adult': False, 'gender': 2, 'id': 3084, 'kn...   \n",
       "1  [{'adult': False, 'gender': 2, 'id': 504, 'kno...   \n",
       "\n",
       "                                                Crew  \n",
       "0  [{'adult': False, 'gender': 2, 'id': 154, 'kno...  \n",
       "1  [{'adult': False, 'gender': 2, 'id': 153, 'kno...  "
      ]
     },
     "execution_count": 117,
     "metadata": {},
     "output_type": "execute_result"
    }
   ],
   "source": [
    "movies.head(2)"
   ]
  },
  {
   "cell_type": "code",
   "execution_count": 118,
   "metadata": {},
   "outputs": [
    {
     "data": {
      "text/plain": [
       "<function ast.literal_eval(node_or_string)>"
      ]
     },
     "execution_count": 118,
     "metadata": {},
     "output_type": "execute_result"
    }
   ],
   "source": [
    "# now convert those string list  item into list\n",
    "import ast\n",
    "ast.literal_eval"
   ]
  },
  {
   "cell_type": "code",
   "execution_count": 119,
   "metadata": {},
   "outputs": [],
   "source": [
    "def convert(obj):\n",
    "    L =[]\n",
    "    for i in ast.literal_eval(obj):\n",
    "        L.append(i['name'])\n",
    "    return L"
   ]
  },
  {
   "cell_type": "code",
   "execution_count": 120,
   "metadata": {},
   "outputs": [],
   "source": [
    "movies['Keywords']=movies['Keywords'].apply(convert)\n",
    "movies['Genres']=movies['Genres'].apply(convert)\n"
   ]
  },
  {
   "cell_type": "code",
   "execution_count": 121,
   "metadata": {},
   "outputs": [],
   "source": [
    "#movies_cast name\n",
    "def convert3(obj):\n",
    "    L =[]\n",
    "    counter=0\n",
    "    for i in ast.literal_eval(obj):\n",
    "        if counter !=3: # takes maximum 3 cast members\n",
    "            L.append(i['name'])\n",
    "            counter+=1\n",
    "    return L"
   ]
  },
  {
   "cell_type": "code",
   "execution_count": 122,
   "metadata": {},
   "outputs": [],
   "source": [
    "movies['Cast']=movies['Cast'].apply(convert3)\n"
   ]
  },
  {
   "cell_type": "code",
   "execution_count": 123,
   "metadata": {},
   "outputs": [],
   "source": [
    "# this will takes only director from the crew lists\n",
    "def fetch_directoer(obj):\n",
    "    L =[]\n",
    "    for i in ast.literal_eval(obj):\n",
    "        if i['job']==\"Director\":\n",
    "            L.append(i['name'])\n",
    "            break\n",
    "    return L"
   ]
  },
  {
   "cell_type": "code",
   "execution_count": 124,
   "metadata": {},
   "outputs": [],
   "source": [
    "movies['Crew']=movies['Crew'].apply(fetch_directoer)"
   ]
  },
  {
   "cell_type": "code",
   "execution_count": 125,
   "metadata": {},
   "outputs": [
    {
     "data": {
      "text/plain": [
       "Keywords    0\n",
       "Genres      0\n",
       "Cast        0\n",
       "Crew        0\n",
       "dtype: int64"
      ]
     },
     "execution_count": 125,
     "metadata": {},
     "output_type": "execute_result"
    }
   ],
   "source": [
    "selected_features = ['Keywords','Genres','Cast','Crew']\n",
    "\n",
    "movies[selected_features].isna().sum().sort_values(ascending=False)\n"
   ]
  },
  {
   "cell_type": "code",
   "execution_count": 126,
   "metadata": {},
   "outputs": [
    {
     "data": {
      "text/html": [
       "<div>\n",
       "<style scoped>\n",
       "    .dataframe tbody tr th:only-of-type {\n",
       "        vertical-align: middle;\n",
       "    }\n",
       "\n",
       "    .dataframe tbody tr th {\n",
       "        vertical-align: top;\n",
       "    }\n",
       "\n",
       "    .dataframe thead th {\n",
       "        text-align: right;\n",
       "    }\n",
       "</style>\n",
       "<table border=\"1\" class=\"dataframe\">\n",
       "  <thead>\n",
       "    <tr style=\"text-align: right;\">\n",
       "      <th></th>\n",
       "      <th>Unnamed: 0_x</th>\n",
       "      <th>Movie_id</th>\n",
       "      <th>title</th>\n",
       "      <th>Genres</th>\n",
       "      <th>release_date</th>\n",
       "      <th>Keywords</th>\n",
       "      <th>overview</th>\n",
       "      <th>poster_path</th>\n",
       "      <th>Budget</th>\n",
       "      <th>Revenue</th>\n",
       "      <th>popularity</th>\n",
       "      <th>vote_average</th>\n",
       "      <th>vote_count</th>\n",
       "      <th>Unnamed: 0_y</th>\n",
       "      <th>Cast</th>\n",
       "      <th>Crew</th>\n",
       "      <th>tags</th>\n",
       "    </tr>\n",
       "  </thead>\n",
       "  <tbody>\n",
       "    <tr>\n",
       "      <th>0</th>\n",
       "      <td>0</td>\n",
       "      <td>238</td>\n",
       "      <td>The Godfather</td>\n",
       "      <td>[Drama, Crime]</td>\n",
       "      <td>1972-03-14</td>\n",
       "      <td>[italy, loss of loved one, love at first sight...</td>\n",
       "      <td>Spanning the years 1945 to 1955, a chronicle o...</td>\n",
       "      <td>/3bhkrj58Vtu7enYsRolD1fZdja1.jpg</td>\n",
       "      <td>245066411</td>\n",
       "      <td>245066411</td>\n",
       "      <td>93.552</td>\n",
       "      <td>8.7</td>\n",
       "      <td>16814</td>\n",
       "      <td>0</td>\n",
       "      <td>[Marlon Brando, Al Pacino, James Caan]</td>\n",
       "      <td>[Francis Ford Coppola]</td>\n",
       "      <td>[Drama, Crime, italy, loss of loved one, love ...</td>\n",
       "    </tr>\n",
       "    <tr>\n",
       "      <th>1</th>\n",
       "      <td>1</td>\n",
       "      <td>278</td>\n",
       "      <td>The Shawshank Redemption</td>\n",
       "      <td>[Drama, Crime]</td>\n",
       "      <td>1994-09-23</td>\n",
       "      <td>[prison, corruption, police brutality, based o...</td>\n",
       "      <td>Framed in the 1940s for the double murder of h...</td>\n",
       "      <td>/q6y0Go1tsGEsmtFryDOJo3dEmqu.jpg</td>\n",
       "      <td>28341469</td>\n",
       "      <td>28341469</td>\n",
       "      <td>78.664</td>\n",
       "      <td>8.7</td>\n",
       "      <td>22542</td>\n",
       "      <td>1</td>\n",
       "      <td>[Tim Robbins, Morgan Freeman, Bob Gunton]</td>\n",
       "      <td>[Frank Darabont]</td>\n",
       "      <td>[Drama, Crime, prison, corruption, police brut...</td>\n",
       "    </tr>\n",
       "    <tr>\n",
       "      <th>2</th>\n",
       "      <td>2</td>\n",
       "      <td>240</td>\n",
       "      <td>The Godfather Part II</td>\n",
       "      <td>[Drama, Crime]</td>\n",
       "      <td>1974-12-20</td>\n",
       "      <td>[italy, italian american, cuba, symbolism, gan...</td>\n",
       "      <td>In the continuing saga of the Corleone crime f...</td>\n",
       "      <td>/hek3koDUyRQk7FIhPXsa6mT2Zc3.jpg</td>\n",
       "      <td>102600000</td>\n",
       "      <td>102600000</td>\n",
       "      <td>55.752</td>\n",
       "      <td>8.6</td>\n",
       "      <td>10187</td>\n",
       "      <td>2</td>\n",
       "      <td>[Al Pacino, Robert Duvall, Diane Keaton]</td>\n",
       "      <td>[Francis Ford Coppola]</td>\n",
       "      <td>[Drama, Crime, italy, italian american, cuba, ...</td>\n",
       "    </tr>\n",
       "  </tbody>\n",
       "</table>\n",
       "</div>"
      ],
      "text/plain": [
       "   Unnamed: 0_x  Movie_id                     title          Genres  \\\n",
       "0             0       238             The Godfather  [Drama, Crime]   \n",
       "1             1       278  The Shawshank Redemption  [Drama, Crime]   \n",
       "2             2       240     The Godfather Part II  [Drama, Crime]   \n",
       "\n",
       "  release_date                                           Keywords  \\\n",
       "0   1972-03-14  [italy, loss of loved one, love at first sight...   \n",
       "1   1994-09-23  [prison, corruption, police brutality, based o...   \n",
       "2   1974-12-20  [italy, italian american, cuba, symbolism, gan...   \n",
       "\n",
       "                                            overview  \\\n",
       "0  Spanning the years 1945 to 1955, a chronicle o...   \n",
       "1  Framed in the 1940s for the double murder of h...   \n",
       "2  In the continuing saga of the Corleone crime f...   \n",
       "\n",
       "                        poster_path     Budget    Revenue  popularity  \\\n",
       "0  /3bhkrj58Vtu7enYsRolD1fZdja1.jpg  245066411  245066411      93.552   \n",
       "1  /q6y0Go1tsGEsmtFryDOJo3dEmqu.jpg   28341469   28341469      78.664   \n",
       "2  /hek3koDUyRQk7FIhPXsa6mT2Zc3.jpg  102600000  102600000      55.752   \n",
       "\n",
       "   vote_average  vote_count  Unnamed: 0_y  \\\n",
       "0           8.7       16814             0   \n",
       "1           8.7       22542             1   \n",
       "2           8.6       10187             2   \n",
       "\n",
       "                                        Cast                    Crew  \\\n",
       "0     [Marlon Brando, Al Pacino, James Caan]  [Francis Ford Coppola]   \n",
       "1  [Tim Robbins, Morgan Freeman, Bob Gunton]        [Frank Darabont]   \n",
       "2   [Al Pacino, Robert Duvall, Diane Keaton]  [Francis Ford Coppola]   \n",
       "\n",
       "                                                tags  \n",
       "0  [Drama, Crime, italy, loss of loved one, love ...  \n",
       "1  [Drama, Crime, prison, corruption, police brut...  \n",
       "2  [Drama, Crime, italy, italian american, cuba, ...  "
      ]
     },
     "execution_count": 126,
     "metadata": {},
     "output_type": "execute_result"
    }
   ],
   "source": [
    "movies['tags']= movies['Genres'] + movies['Keywords'] + movies['Cast'] + movies['Crew'] \n",
    "movies.head(3)"
   ]
  },
  {
   "cell_type": "code",
   "execution_count": 127,
   "metadata": {},
   "outputs": [
    {
     "data": {
      "text/plain": [
       "0       drama crime italy loss of loved one love at fi...\n",
       "1       drama crime prison corruption police brutality...\n",
       "2       drama crime italy italian american cuba symbol...\n",
       "3       comedy drama romance shah rukh khan kajol amri...\n",
       "4       drama history war based on novel or book facto...\n",
       "                              ...                        \n",
       "9975    action crime thriller crime boss heist bruce w...\n",
       "9976    horror monster darkness desert archaeologist f...\n",
       "9977    comedy family tv movie christmas jodelle ferla...\n",
       "9978    action competition career sports automobile sy...\n",
       "9979    horror poltergeist haunted house remake during...\n",
       "Name: tags, Length: 9980, dtype: object"
      ]
     },
     "execution_count": 127,
     "metadata": {},
     "output_type": "execute_result"
    }
   ],
   "source": [
    "cleaned_df = movies[['Movie_id','title','tags']]\n",
    "cleaned_df['tags']=cleaned_df['tags'].apply(lambda x: \" \".join(x))\n",
    "cleaned_df['tags'] = cleaned_df['tags'].str.lower()\n",
    "\n",
    "cleaned_df.head(2)\n",
    "tags=cleaned_df['tags']\n",
    "tags"
   ]
  },
  {
   "cell_type": "code",
   "execution_count": 144,
   "metadata": {},
   "outputs": [
    {
     "data": {
      "text/plain": [
       "0"
      ]
     },
     "execution_count": 144,
     "metadata": {},
     "output_type": "execute_result"
    }
   ],
   "source": [
    "cleaned_df.duplicated().sum()\n"
   ]
  },
  {
   "cell_type": "markdown",
   "metadata": {},
   "source": [
    "### TEXT Vectorization"
   ]
  },
  {
   "cell_type": "code",
   "execution_count": 128,
   "metadata": {},
   "outputs": [
    {
     "data": {
      "text/plain": [
       "(9980, 23377)"
      ]
     },
     "execution_count": 128,
     "metadata": {},
     "output_type": "execute_result"
    }
   ],
   "source": [
    "vectorizer =TfidfVectorizer()\n",
    "feature_vectors=vectorizer.fit_transform(tags)\n",
    "feature_vectors.shape"
   ]
  },
  {
   "cell_type": "markdown",
   "metadata": {},
   "source": [
    "### Cosine similarity"
   ]
  },
  {
   "cell_type": "code",
   "execution_count": 129,
   "metadata": {},
   "outputs": [],
   "source": [
    "# get the similarity scores\n",
    "similarity = cosine_similarity(feature_vectors)\n"
   ]
  },
  {
   "cell_type": "code",
   "execution_count": 130,
   "metadata": {},
   "outputs": [
    {
     "name": "stdout",
     "output_type": "stream",
     "text": [
      "[[1.         0.06343107 0.35104842 ... 0.0073161  0.         0.        ]\n",
      " [0.06343107 1.         0.01815827 ... 0.         0.         0.        ]\n",
      " [0.35104842 0.01815827 1.         ... 0.         0.         0.        ]\n",
      " ...\n",
      " [0.0073161  0.         0.         ... 1.         0.         0.        ]\n",
      " [0.         0.         0.         ... 0.         1.         0.        ]\n",
      " [0.         0.         0.         ... 0.         0.         1.        ]]\n"
     ]
    }
   ],
   "source": [
    "print(similarity)"
   ]
  },
  {
   "cell_type": "code",
   "execution_count": 131,
   "metadata": {},
   "outputs": [
    {
     "data": {
      "text/plain": [
       "(9980, 9980)"
      ]
     },
     "execution_count": 131,
     "metadata": {},
     "output_type": "execute_result"
    }
   ],
   "source": [
    "similarity.shape\n"
   ]
  },
  {
   "cell_type": "code",
   "execution_count": 132,
   "metadata": {},
   "outputs": [],
   "source": [
    "\n",
    "def aggregate_features(selected_movie_indices, feature_vectors):\n",
    "    # Assuming selected_movie_indices is a list of indices for the selected movies\n",
    "    selected_features = feature_vectors[selected_movie_indices]\n",
    "    \n",
    "    # Choose an aggregation strategy, e.g., taking the mean\n",
    "    aggregated_features = np.mean(selected_features, axis=0)\n",
    "    \n",
    "    return aggregated_features"
   ]
  },
  {
   "cell_type": "code",
   "execution_count": 133,
   "metadata": {},
   "outputs": [],
   "source": [
    "def collaborative_filtering(selected_movie_indices, feature_vectors, movies):\n",
    "    # Aggregate features for all movie\n",
    "    aggregated_features = aggregate_features(selected_movie_indices, feature_vectors)\n",
    "    \n",
    "    # Calculate cosine similarity with all movies\n",
    "    similarity = cosine_similarity(np.asarray(aggregated_features).reshape(1, -1), feature_vectors).flatten()\n",
    "\n",
    " \n",
    "    sorted_indices = np.argsort(similarity)[::-1] #descendant sorting\n",
    "    recommended_movies = movies['title'][sorted_indices]\n",
    "\n",
    "    return recommended_movies"
   ]
  },
  {
   "cell_type": "code",
   "execution_count": 156,
   "metadata": {},
   "outputs": [],
   "source": [
    "selected_movies =[]"
   ]
  },
  {
   "cell_type": "markdown",
   "metadata": {},
   "source": [
    "## Recommandation based on multiple movies\n",
    "#### Rerun this cell if you want to add another movie \n",
    "##### You can be a little bit approximative in your input"
   ]
  },
  {
   "cell_type": "code",
   "execution_count": 159,
   "metadata": {},
   "outputs": [
    {
     "name": "stdout",
     "output_type": "stream",
     "text": [
      "close match : Shutter Island\n",
      "selected movies are : ['Spider-Man', 'Toy Story', 'Shutter Island']\n",
      "20 recommanded movies : \n",
      "2297                      Spider-Man\n",
      "361                        Toy Story\n",
      "151                   Shutter Island\n",
      "2399                    Spider-Man 2\n",
      "6367                    Spider-Man 3\n",
      "1189                     Toy Story 4\n",
      "5614                  Small Soldiers\n",
      "1090                     Toy Story 2\n",
      "1771                The Great Gatsby\n",
      "635                      Toy Story 3\n",
      "848                    Batman Begins\n",
      "6233      The Indian in the Cupboard\n",
      "5343               Welcome to Marwen\n",
      "7275                I Am Number Four\n",
      "1287    Batman: Mask of the Phantasm\n",
      "4852          The Amazing Spider-Man\n",
      "9939                            Toys\n",
      "14                   The Dark Knight\n",
      "1664                  The Lego Movie\n",
      "1778          The Basketball Diaries\n",
      "Name: title, dtype: object\n"
     ]
    }
   ],
   "source": [
    "import difflib\n",
    "\n",
    "\n",
    "\n",
    "movie_name = input('Enter the movie name u like')\n",
    "find_match= difflib.get_close_matches(movie_name,movies['title'])# For approximative inputs\n",
    "if len(find_match) >0:\n",
    "    close_match=find_match[0]\n",
    "    print(f'close match : {close_match}')\n",
    "\n",
    "    selected_movies.append(close_match)\n",
    "    selected_movie_indices = [movies[movies['title'] == movie].index[0] for movie in selected_movies]\n",
    "\n",
    "    result = collaborative_filtering(selected_movie_indices, feature_vectors, movies)\n",
    "else:\n",
    "    print(f'sorry no matching movies for : {movie_name} ')\n",
    "print(f'selected movies are : {selected_movies}')\n",
    "\n",
    "print(f'20 recommanded movies : \\n{result[:20]}')\n"
   ]
  },
  {
   "cell_type": "markdown",
   "metadata": {},
   "source": [
    "## Recommandation based on one movie"
   ]
  },
  {
   "cell_type": "code",
   "execution_count": 160,
   "metadata": {},
   "outputs": [],
   "source": [
    "def recommandation(movie_name):\n",
    "    index=(np.where(movies['title']==movie_name)[0])\n",
    "    if(len(index)==0 ):\n",
    "        print('sorry no movies matching ')\n",
    "    else:\n",
    "        indices_descending = np.argsort(similarity[index])[0][::-1]\n",
    "        \n",
    "        # Use the indices to get the sorted array in descending order\n",
    "        recommanded_movies = movies['title'][indices_descending]\n",
    "        return recommanded_movies"
   ]
  },
  {
   "cell_type": "code",
   "execution_count": 163,
   "metadata": {},
   "outputs": [
    {
     "name": "stdout",
     "output_type": "stream",
     "text": [
      "['Shutter Island', 'Cutthroat Island']\n",
      "movie found : Shutter Island\n",
      "151                   Shutter Island\n",
      "1771                The Great Gatsby\n",
      "469                        Gone Girl\n",
      "5138                    Body of Lies\n",
      "2599                            Hugo\n",
      "3376                   The Big Shave\n",
      "7565                       Galveston\n",
      "2602    Murder on the Orient Express\n",
      "2395                     The Aviator\n",
      "1973                 Minority Report\n",
      "Name: title, dtype: object\n"
     ]
    }
   ],
   "source": [
    "movie_name = input('Enter the movie name u like')\n",
    "find_match= difflib.get_close_matches(movie_name,movies['title'])\n",
    "\n",
    "print(find_match)\n",
    "if len(find_match) >0:\n",
    "    close_match=find_match[0]\n",
    "    print(f'movie found : {close_match}')\n",
    "    res= recommandation(close_match)\n",
    "    print(res[:10])\n",
    "else:\n",
    "    print('Sorr no matching movie on our dataset')\n"
   ]
  }
 ],
 "metadata": {
  "kernelspec": {
   "display_name": "Python 3",
   "language": "python",
   "name": "python3"
  },
  "language_info": {
   "codemirror_mode": {
    "name": "ipython",
    "version": 3
   },
   "file_extension": ".py",
   "mimetype": "text/x-python",
   "name": "python",
   "nbconvert_exporter": "python",
   "pygments_lexer": "ipython3",
   "version": "3.9.7"
  }
 },
 "nbformat": 4,
 "nbformat_minor": 2
}
